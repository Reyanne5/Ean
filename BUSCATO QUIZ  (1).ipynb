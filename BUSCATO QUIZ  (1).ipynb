{
  "cells": [
    {
      "cell_type": "code",
      "execution_count": null,
      "metadata": {
        "trusted": true,
        "vscode": {
          "languageId": "python"
        }
      },
      "outputs": [],
      "source": [
        "import pandas as pd\n",
        "import matplotlib.pyplot as plt\n",
        "from sklearn.model_selection import train_test_split\n",
        "from sklearn.linear_model import LinearRegression\n",
        "from sklearn.metrics import mean_squared_error\n",
        "import numpy as np\n",
        "\n",
        "file_path = 'CrimesOnWomenData.csv'\n",
        "data = pd.read_csv(file_path)\n",
        "\n",
        "data = data.dropna()\n",
        "data['Year'] = pd.to_numeric(data['Year'], errors='coerce')\n",
        "data['Rape'] = pd.to_numeric(data['Rape'], errors='coerce')\n",
        "data = data.dropna(subset=['Rape', 'Year'])\n",
        "\n",
        "\n",
        "X = data[['Year']]\n",
        "y = data['Rape']\n",
        "\n",
        "X_train, X_test, y_train, y_test = train_test_split(X, y, test_size=0.2, random_state=42)\n",
        "\n",
        "model = LinearRegression()\n",
        "model.fit(X_train, y_train)\n",
        "\n",
        "y_pred = model.predict(X_test)\n",
        "\n",
        "mse = mean_squared_error(y_test, y_pred)\n",
        "print(f'Mean Squared Error: {mse}')\n",
        "\n",
        "future_years = pd.DataFrame({'Year': np.arange(X['Year'].min(), X['Year'].max() + 10)})\n",
        "future_predictions = model.predict(future_years)\n",
        "\n",
        "plt.figure(figsize=(14, 7))\n",
        "plt.scatter(data['Year'], data['Rape'], color='blue', label='Actual Rape Incidents')\n",
        "plt.plot(future_years, future_predictions, color='red', linestyle='--', label='Predicted Rape Incidents')\n",
        "plt.xlabel('Year')\n",
        "plt.ylabel('Number of Rape Incidents')\n",
        "plt.title('Rape Incidents vs Year')\n",
        "plt.legend()\n",
        "plt.grid(True)\n",
        "plt.show()"
      ]
    },
    {
      "cell_type": "code",
      "execution_count": null,
      "metadata": {
        "trusted": true,
        "vscode": {
          "languageId": "python"
        }
      },
      "outputs": [],
      "source": []
    },
    {
      "cell_type": "code",
      "execution_count": null,
      "metadata": {
        "trusted": true,
        "vscode": {
          "languageId": "python"
        }
      },
      "outputs": [],
      "source": []
    }
  ],
  "metadata": {
    "kernelspec": {
      "display_name": "Python (Pyodide)",
      "language": "python",
      "name": "python"
    },
    "language_info": {
      "name": ""
    }
  },
  "nbformat": 4,
  "nbformat_minor": 4
}
