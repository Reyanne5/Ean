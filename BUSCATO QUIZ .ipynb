{
  "metadata": {
    "kernelspec": {
      "name": "python",
      "display_name": "Python (Pyodide)",
      "language": "python"
    },
    "language_info": {
      "name": ""
    }
  },
  "nbformat_minor": 4,
  "nbformat": 4,
  "cells": [
    {
      "cell_type": "code",
      "source": "import pandas as pd\nimport matplotlib.pyplot as plt\nfrom sklearn.model_selection import train_test_split\nfrom sklearn.linear_model import LinearRegression\nfrom sklearn.metrics import mean_squared_error\nimport numpy as np\n\n# Load the dataset\nfile_path = 'CrimesOnWomenData.csv'\ndata = pd.read_csv(file_path)\n\n# Preprocess the data\ndata = data.dropna()\ndata['Year'] = pd.to_numeric(data['Year'], errors='coerce')\ndata['Rape'] = pd.to_numeric(data['Rape'], errors='coerce')\ndata = data.dropna(subset=['Rape', 'Year'])\n\n# Feature and target variable\nX = data[['Year']]\ny = data['Rape']\n\n# Split the data into training and testing sets\nX_train, X_test, y_train, y_test = train_test_split(X, y, test_size=0.2, random_state=42)\n\n# Create and train the model\nmodel = LinearRegression()\nmodel.fit(X_train, y_train)\n\n# Make predictions\ny_pred = model.predict(X_test)\n\n# Evaluate the model\nmse = mean_squared_error(y_test, y_pred)\nprint(f'Mean Squared Error: {mse}')\n\n# Create a DataFrame for future years\nfuture_years = pd.DataFrame({'Year': np.arange(X['Year'].min(), X['Year'].max() + 10)})\nfuture_predictions = model.predict(future_years)\n\n# Plot the actual data and the predictions\nplt.figure(figsize=(14, 7))\nplt.scatter(data['Year'], data['Rape'], color='blue', label='Actual Rape Incidents')\nplt.plot(future_years, future_predictions, color='red', linestyle='--', label='Predicted Rape Incidents')\nplt.xlabel('Year')\nplt.ylabel('Number of Rape Incidents')\nplt.title('Rape Incidents vs Year')\nplt.legend()\nplt.grid(True)\nplt.show()",
      "metadata": {
        "trusted": true
      },
      "outputs": [],
      "execution_count": null
    },
    {
      "cell_type": "code",
      "source": "",
      "metadata": {
        "trusted": true
      },
      "outputs": [],
      "execution_count": null
    },
    {
      "cell_type": "code",
      "source": "",
      "metadata": {
        "trusted": true
      },
      "outputs": [],
      "execution_count": null
    }
  ]
}